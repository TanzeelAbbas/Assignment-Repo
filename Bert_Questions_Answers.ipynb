{
  "nbformat": 4,
  "nbformat_minor": 0,
  "metadata": {
    "colab": {
      "provenance": [],
      "gpuType": "T4",
      "authorship_tag": "ABX9TyMl56PEaE4Hm7yUlvNZWE5P",
      "include_colab_link": true
    },
    "kernelspec": {
      "name": "python3",
      "display_name": "Python 3"
    },
    "language_info": {
      "name": "python"
    },
    "accelerator": "GPU",
    "widgets": {
      "application/vnd.jupyter.widget-state+json": {
        "fbcc5a77e05941b68a557917b9c7b27d": {
          "model_module": "@jupyter-widgets/controls",
          "model_name": "HBoxModel",
          "model_module_version": "1.5.0",
          "state": {
            "_dom_classes": [],
            "_model_module": "@jupyter-widgets/controls",
            "_model_module_version": "1.5.0",
            "_model_name": "HBoxModel",
            "_view_count": null,
            "_view_module": "@jupyter-widgets/controls",
            "_view_module_version": "1.5.0",
            "_view_name": "HBoxView",
            "box_style": "",
            "children": [
              "IPY_MODEL_330accb440644b109d7e9eb439474837",
              "IPY_MODEL_590ee57741bd49d18db618142ae87e96",
              "IPY_MODEL_ef0016586f1541cead5e28e441f9546f"
            ],
            "layout": "IPY_MODEL_8af5cd6a50c34342a00a124d2942b343"
          }
        },
        "330accb440644b109d7e9eb439474837": {
          "model_module": "@jupyter-widgets/controls",
          "model_name": "HTMLModel",
          "model_module_version": "1.5.0",
          "state": {
            "_dom_classes": [],
            "_model_module": "@jupyter-widgets/controls",
            "_model_module_version": "1.5.0",
            "_model_name": "HTMLModel",
            "_view_count": null,
            "_view_module": "@jupyter-widgets/controls",
            "_view_module_version": "1.5.0",
            "_view_name": "HTMLView",
            "description": "",
            "description_tooltip": null,
            "layout": "IPY_MODEL_f2c3a78a18374fc5ba189b2b43df76e9",
            "placeholder": "​",
            "style": "IPY_MODEL_9aeff1b0385e4367bc120b7df40c6bb2",
            "value": "Epoch:   0%"
          }
        },
        "590ee57741bd49d18db618142ae87e96": {
          "model_module": "@jupyter-widgets/controls",
          "model_name": "FloatProgressModel",
          "model_module_version": "1.5.0",
          "state": {
            "_dom_classes": [],
            "_model_module": "@jupyter-widgets/controls",
            "_model_module_version": "1.5.0",
            "_model_name": "FloatProgressModel",
            "_view_count": null,
            "_view_module": "@jupyter-widgets/controls",
            "_view_module_version": "1.5.0",
            "_view_name": "ProgressView",
            "bar_style": "",
            "description": "",
            "description_tooltip": null,
            "layout": "IPY_MODEL_411d333d7089476ab504d411268fe34e",
            "max": 3,
            "min": 0,
            "orientation": "horizontal",
            "style": "IPY_MODEL_8f2312808c514da8afca6f024264f707",
            "value": 0
          }
        },
        "ef0016586f1541cead5e28e441f9546f": {
          "model_module": "@jupyter-widgets/controls",
          "model_name": "HTMLModel",
          "model_module_version": "1.5.0",
          "state": {
            "_dom_classes": [],
            "_model_module": "@jupyter-widgets/controls",
            "_model_module_version": "1.5.0",
            "_model_name": "HTMLModel",
            "_view_count": null,
            "_view_module": "@jupyter-widgets/controls",
            "_view_module_version": "1.5.0",
            "_view_name": "HTMLView",
            "description": "",
            "description_tooltip": null,
            "layout": "IPY_MODEL_63cb4bbb644348748554873ad6753a08",
            "placeholder": "​",
            "style": "IPY_MODEL_705f9a29c80f480f839e79d924f36354",
            "value": " 0/3 [00:00&lt;?, ?it/s]"
          }
        },
        "8af5cd6a50c34342a00a124d2942b343": {
          "model_module": "@jupyter-widgets/base",
          "model_name": "LayoutModel",
          "model_module_version": "1.2.0",
          "state": {
            "_model_module": "@jupyter-widgets/base",
            "_model_module_version": "1.2.0",
            "_model_name": "LayoutModel",
            "_view_count": null,
            "_view_module": "@jupyter-widgets/base",
            "_view_module_version": "1.2.0",
            "_view_name": "LayoutView",
            "align_content": null,
            "align_items": null,
            "align_self": null,
            "border": null,
            "bottom": null,
            "display": null,
            "flex": null,
            "flex_flow": null,
            "grid_area": null,
            "grid_auto_columns": null,
            "grid_auto_flow": null,
            "grid_auto_rows": null,
            "grid_column": null,
            "grid_gap": null,
            "grid_row": null,
            "grid_template_areas": null,
            "grid_template_columns": null,
            "grid_template_rows": null,
            "height": null,
            "justify_content": null,
            "justify_items": null,
            "left": null,
            "margin": null,
            "max_height": null,
            "max_width": null,
            "min_height": null,
            "min_width": null,
            "object_fit": null,
            "object_position": null,
            "order": null,
            "overflow": null,
            "overflow_x": null,
            "overflow_y": null,
            "padding": null,
            "right": null,
            "top": null,
            "visibility": null,
            "width": null
          }
        },
        "f2c3a78a18374fc5ba189b2b43df76e9": {
          "model_module": "@jupyter-widgets/base",
          "model_name": "LayoutModel",
          "model_module_version": "1.2.0",
          "state": {
            "_model_module": "@jupyter-widgets/base",
            "_model_module_version": "1.2.0",
            "_model_name": "LayoutModel",
            "_view_count": null,
            "_view_module": "@jupyter-widgets/base",
            "_view_module_version": "1.2.0",
            "_view_name": "LayoutView",
            "align_content": null,
            "align_items": null,
            "align_self": null,
            "border": null,
            "bottom": null,
            "display": null,
            "flex": null,
            "flex_flow": null,
            "grid_area": null,
            "grid_auto_columns": null,
            "grid_auto_flow": null,
            "grid_auto_rows": null,
            "grid_column": null,
            "grid_gap": null,
            "grid_row": null,
            "grid_template_areas": null,
            "grid_template_columns": null,
            "grid_template_rows": null,
            "height": null,
            "justify_content": null,
            "justify_items": null,
            "left": null,
            "margin": null,
            "max_height": null,
            "max_width": null,
            "min_height": null,
            "min_width": null,
            "object_fit": null,
            "object_position": null,
            "order": null,
            "overflow": null,
            "overflow_x": null,
            "overflow_y": null,
            "padding": null,
            "right": null,
            "top": null,
            "visibility": null,
            "width": null
          }
        },
        "9aeff1b0385e4367bc120b7df40c6bb2": {
          "model_module": "@jupyter-widgets/controls",
          "model_name": "DescriptionStyleModel",
          "model_module_version": "1.5.0",
          "state": {
            "_model_module": "@jupyter-widgets/controls",
            "_model_module_version": "1.5.0",
            "_model_name": "DescriptionStyleModel",
            "_view_count": null,
            "_view_module": "@jupyter-widgets/base",
            "_view_module_version": "1.2.0",
            "_view_name": "StyleView",
            "description_width": ""
          }
        },
        "411d333d7089476ab504d411268fe34e": {
          "model_module": "@jupyter-widgets/base",
          "model_name": "LayoutModel",
          "model_module_version": "1.2.0",
          "state": {
            "_model_module": "@jupyter-widgets/base",
            "_model_module_version": "1.2.0",
            "_model_name": "LayoutModel",
            "_view_count": null,
            "_view_module": "@jupyter-widgets/base",
            "_view_module_version": "1.2.0",
            "_view_name": "LayoutView",
            "align_content": null,
            "align_items": null,
            "align_self": null,
            "border": null,
            "bottom": null,
            "display": null,
            "flex": null,
            "flex_flow": null,
            "grid_area": null,
            "grid_auto_columns": null,
            "grid_auto_flow": null,
            "grid_auto_rows": null,
            "grid_column": null,
            "grid_gap": null,
            "grid_row": null,
            "grid_template_areas": null,
            "grid_template_columns": null,
            "grid_template_rows": null,
            "height": null,
            "justify_content": null,
            "justify_items": null,
            "left": null,
            "margin": null,
            "max_height": null,
            "max_width": null,
            "min_height": null,
            "min_width": null,
            "object_fit": null,
            "object_position": null,
            "order": null,
            "overflow": null,
            "overflow_x": null,
            "overflow_y": null,
            "padding": null,
            "right": null,
            "top": null,
            "visibility": null,
            "width": null
          }
        },
        "8f2312808c514da8afca6f024264f707": {
          "model_module": "@jupyter-widgets/controls",
          "model_name": "ProgressStyleModel",
          "model_module_version": "1.5.0",
          "state": {
            "_model_module": "@jupyter-widgets/controls",
            "_model_module_version": "1.5.0",
            "_model_name": "ProgressStyleModel",
            "_view_count": null,
            "_view_module": "@jupyter-widgets/base",
            "_view_module_version": "1.2.0",
            "_view_name": "StyleView",
            "bar_color": null,
            "description_width": ""
          }
        },
        "63cb4bbb644348748554873ad6753a08": {
          "model_module": "@jupyter-widgets/base",
          "model_name": "LayoutModel",
          "model_module_version": "1.2.0",
          "state": {
            "_model_module": "@jupyter-widgets/base",
            "_model_module_version": "1.2.0",
            "_model_name": "LayoutModel",
            "_view_count": null,
            "_view_module": "@jupyter-widgets/base",
            "_view_module_version": "1.2.0",
            "_view_name": "LayoutView",
            "align_content": null,
            "align_items": null,
            "align_self": null,
            "border": null,
            "bottom": null,
            "display": null,
            "flex": null,
            "flex_flow": null,
            "grid_area": null,
            "grid_auto_columns": null,
            "grid_auto_flow": null,
            "grid_auto_rows": null,
            "grid_column": null,
            "grid_gap": null,
            "grid_row": null,
            "grid_template_areas": null,
            "grid_template_columns": null,
            "grid_template_rows": null,
            "height": null,
            "justify_content": null,
            "justify_items": null,
            "left": null,
            "margin": null,
            "max_height": null,
            "max_width": null,
            "min_height": null,
            "min_width": null,
            "object_fit": null,
            "object_position": null,
            "order": null,
            "overflow": null,
            "overflow_x": null,
            "overflow_y": null,
            "padding": null,
            "right": null,
            "top": null,
            "visibility": null,
            "width": null
          }
        },
        "705f9a29c80f480f839e79d924f36354": {
          "model_module": "@jupyter-widgets/controls",
          "model_name": "DescriptionStyleModel",
          "model_module_version": "1.5.0",
          "state": {
            "_model_module": "@jupyter-widgets/controls",
            "_model_module_version": "1.5.0",
            "_model_name": "DescriptionStyleModel",
            "_view_count": null,
            "_view_module": "@jupyter-widgets/base",
            "_view_module_version": "1.2.0",
            "_view_name": "StyleView",
            "description_width": ""
          }
        }
      }
    }
  },
  "cells": [
    {
      "cell_type": "markdown",
      "metadata": {
        "id": "view-in-github",
        "colab_type": "text"
      },
      "source": [
        "<a href=\"https://colab.research.google.com/github/TanzeelAbbas/Assignment-Repo/blob/main/Bert_Questions_Answers.ipynb\" target=\"_parent\"><img src=\"https://colab.research.google.com/assets/colab-badge.svg\" alt=\"Open In Colab\"/></a>"
      ]
    },
    {
      "cell_type": "markdown",
      "source": [
        "# **Simple Transformers**\n",
        "This library is based on the Transformers library by HuggingFace."
      ],
      "metadata": {
        "id": "IiH3oyCgXuad"
      }
    },
    {
      "cell_type": "code",
      "source": [
        "import pandas as pd\n",
        "\n",
        "df = pd.read_json(\"/content/train-v2.0.json\")\n",
        "\n",
        "print(df.head())"
      ],
      "metadata": {
        "colab": {
          "base_uri": "https://localhost:8080/"
        },
        "id": "hVQCiXGZScDL",
        "outputId": "c906bb5e-418e-4cae-d14a-e475be225379"
      },
      "execution_count": 23,
      "outputs": [
        {
          "output_type": "stream",
          "name": "stdout",
          "text": [
            "  version                                               data\n",
            "0    v2.0  {'title': 'Beyoncé', 'paragraphs': [{'qas': [{...\n",
            "1    v2.0  {'title': 'Frédéric_Chopin', 'paragraphs': [{'...\n",
            "2    v2.0  {'title': 'Sino-Tibetan_relations_during_the_M...\n",
            "3    v2.0  {'title': 'IPod', 'paragraphs': [{'qas': [{'qu...\n",
            "4    v2.0  {'title': 'The_Legend_of_Zelda:_Twilight_Princ...\n"
          ]
        }
      ]
    },
    {
      "cell_type": "code",
      "source": [
        "df[:2]['data']"
      ],
      "metadata": {
        "colab": {
          "base_uri": "https://localhost:8080/"
        },
        "id": "qpV7FoRZNRTC",
        "outputId": "88d1c6f7-f5e5-445f-dd91-608df4f5f69e"
      },
      "execution_count": 26,
      "outputs": [
        {
          "output_type": "execute_result",
          "data": {
            "text/plain": [
              "0    {'title': 'Beyoncé', 'paragraphs': [{'qas': [{...\n",
              "1    {'title': 'Frédéric_Chopin', 'paragraphs': [{'...\n",
              "Name: data, dtype: object"
            ]
          },
          "metadata": {},
          "execution_count": 26
        }
      ]
    },
    {
      "cell_type": "code",
      "source": [
        "# !pip install datasets\n",
        "\n",
        "from datasets import load_dataset\n",
        "\n",
        "dataset = load_dataset(\"squad_v2\")"
      ],
      "metadata": {
        "id": "HWj4vhb6ScIZ"
      },
      "execution_count": 1,
      "outputs": []
    },
    {
      "cell_type": "code",
      "source": [
        "train_dataset = dataset['train']\n",
        "validation_dataset = dataset['validation']\n",
        "\n",
        "print(type(train_dataset))\n",
        "print(type(validation_dataset))"
      ],
      "metadata": {
        "colab": {
          "base_uri": "https://localhost:8080/"
        },
        "id": "jlO5wpkuZXJB",
        "outputId": "8668f3b3-97bd-4c39-ca86-6c570ba58fd0"
      },
      "execution_count": 2,
      "outputs": [
        {
          "output_type": "stream",
          "name": "stdout",
          "text": [
            "<class 'datasets.arrow_dataset.Dataset'>\n",
            "<class 'datasets.arrow_dataset.Dataset'>\n"
          ]
        }
      ]
    },
    {
      "cell_type": "markdown",
      "source": [
        "## **Access the first data point in the training set**"
      ],
      "metadata": {
        "id": "zTV2YNHnnZNQ"
      }
    },
    {
      "cell_type": "code",
      "source": [
        "sample = train_dataset[0]\n",
        "question = sample['question']\n",
        "context = sample['context']\n",
        "answers = sample['answers']\n",
        "\n",
        "print('First Question: ',question)\n",
        "print(\"Context: \", context)\n",
        "print(\"Answers: \", answers)"
      ],
      "metadata": {
        "colab": {
          "base_uri": "https://localhost:8080/"
        },
        "id": "CokdP-ndbkTO",
        "outputId": "c6f7fdb9-7d1a-4fef-97ad-64bb66821923"
      },
      "execution_count": 3,
      "outputs": [
        {
          "output_type": "stream",
          "name": "stdout",
          "text": [
            "First Question:  When did Beyonce start becoming popular?\n",
            "Context:  Beyoncé Giselle Knowles-Carter (/biːˈjɒnseɪ/ bee-YON-say) (born September 4, 1981) is an American singer, songwriter, record producer and actress. Born and raised in Houston, Texas, she performed in various singing and dancing competitions as a child, and rose to fame in the late 1990s as lead singer of R&B girl-group Destiny's Child. Managed by her father, Mathew Knowles, the group became one of the world's best-selling girl groups of all time. Their hiatus saw the release of Beyoncé's debut album, Dangerously in Love (2003), which established her as a solo artist worldwide, earned five Grammy Awards and featured the Billboard Hot 100 number-one singles \"Crazy in Love\" and \"Baby Boy\".\n",
            "Answers:  {'text': ['in the late 1990s'], 'answer_start': [269]}\n"
          ]
        }
      ]
    },
    {
      "cell_type": "code",
      "source": [
        "sample"
      ],
      "metadata": {
        "colab": {
          "base_uri": "https://localhost:8080/"
        },
        "id": "V_Z9WJ-jOTEB",
        "outputId": "98ec4281-86e8-4298-8ee2-913e9a1e0869"
      },
      "execution_count": 4,
      "outputs": [
        {
          "output_type": "execute_result",
          "data": {
            "text/plain": [
              "{'id': '56be85543aeaaa14008c9063',\n",
              " 'title': 'Beyoncé',\n",
              " 'context': 'Beyoncé Giselle Knowles-Carter (/biːˈjɒnseɪ/ bee-YON-say) (born September 4, 1981) is an American singer, songwriter, record producer and actress. Born and raised in Houston, Texas, she performed in various singing and dancing competitions as a child, and rose to fame in the late 1990s as lead singer of R&B girl-group Destiny\\'s Child. Managed by her father, Mathew Knowles, the group became one of the world\\'s best-selling girl groups of all time. Their hiatus saw the release of Beyoncé\\'s debut album, Dangerously in Love (2003), which established her as a solo artist worldwide, earned five Grammy Awards and featured the Billboard Hot 100 number-one singles \"Crazy in Love\" and \"Baby Boy\".',\n",
              " 'question': 'When did Beyonce start becoming popular?',\n",
              " 'answers': {'text': ['in the late 1990s'], 'answer_start': [269]}}"
            ]
          },
          "metadata": {},
          "execution_count": 4
        }
      ]
    },
    {
      "cell_type": "code",
      "source": [
        "print(\"Train_dataset Length: \", len(train_dataset))\n",
        "print(\"Validation_dataset Length: \", len(validation_dataset))"
      ],
      "metadata": {
        "colab": {
          "base_uri": "https://localhost:8080/"
        },
        "id": "tVJ3y0UQY1sU",
        "outputId": "7c6f2920-6161-4630-ebf2-20d296c1a158"
      },
      "execution_count": 5,
      "outputs": [
        {
          "output_type": "stream",
          "name": "stdout",
          "text": [
            "Train_dataset Length:  130319\n",
            "Validation_dataset Length:  11873\n"
          ]
        }
      ]
    },
    {
      "cell_type": "markdown",
      "source": [
        "# **Convert the datasets to lists**"
      ],
      "metadata": {
        "id": "BjaWNexOmvzB"
      }
    },
    {
      "cell_type": "code",
      "source": [
        "\n",
        "trainDataset = []\n",
        "for example in train_dataset:\n",
        "    question = example['question']\n",
        "    context = example['context']\n",
        "    answers = example.get('answers', [])  # Use .get() to handle missing answers\n",
        "\n",
        "    qas = []  # Initialize an empty list for answers\n",
        "\n",
        "    # Check if there are answers\n",
        "    if answers:\n",
        "        for i, answer_text in enumerate(answers['text']):\n",
        "            answer_start = answers['answer_start'][i]\n",
        "            qas.append({'question': question, 'id': example['id'], 'is_impossible': False, 'answers': [{'text': answer_text, 'answer_start': answer_start}]})\n",
        "    else:\n",
        "        # Handle unanswerable questions\n",
        "        qas = [{'question': question, 'id': example['id'], 'is_impossible': True, 'answers': []}]\n",
        "\n",
        "    trainDataset.append({'context': context, 'qas': qas})\n"
      ],
      "metadata": {
        "id": "Vpu-luV3wiTK"
      },
      "execution_count": 6,
      "outputs": []
    },
    {
      "cell_type": "code",
      "source": [
        "\n",
        "valDataset = []\n",
        "\n",
        "for example in validation_dataset:\n",
        "    question = example['question']\n",
        "    context = example['context']\n",
        "    answers = example.get('answers', [])  # Use .get() to handle missing answers\n",
        "\n",
        "    # Check if there are answers\n",
        "    if answers:\n",
        "        qas = [{'question': question, 'id': example['id'], 'is_impossible': False, 'answers': answers}]\n",
        "    else:\n",
        "        # Handle unanswerable questions\n",
        "        qas = [{'question': question, 'id': example['id'], 'is_impossible': True, 'answers': []}]\n",
        "\n",
        "    valDataset.append({'context': context, 'qas': qas})\n"
      ],
      "metadata": {
        "id": "jpJ4bWl5wukb"
      },
      "execution_count": 7,
      "outputs": []
    },
    {
      "cell_type": "code",
      "source": [
        "print(\"Train_dataset Length: \", len(trainDataset))\n",
        "print(\"Validation_dataset Length: \", len(valDataset))\n",
        "print(\"----------------------------------------------------\")\n",
        "valDataset[0]"
      ],
      "metadata": {
        "colab": {
          "base_uri": "https://localhost:8080/"
        },
        "id": "tHqdMBsZoENQ",
        "outputId": "f2a22b6d-9d26-4ba0-d4a9-311baf94fd6f"
      },
      "execution_count": 8,
      "outputs": [
        {
          "output_type": "stream",
          "name": "stdout",
          "text": [
            "Train_dataset Length:  130319\n",
            "Validation_dataset Length:  11873\n",
            "----------------------------------------------------\n"
          ]
        },
        {
          "output_type": "execute_result",
          "data": {
            "text/plain": [
              "{'context': 'The Normans (Norman: Nourmands; French: Normands; Latin: Normanni) were the people who in the 10th and 11th centuries gave their name to Normandy, a region in France. They were descended from Norse (\"Norman\" comes from \"Norseman\") raiders and pirates from Denmark, Iceland and Norway who, under their leader Rollo, agreed to swear fealty to King Charles III of West Francia. Through generations of assimilation and mixing with the native Frankish and Roman-Gaulish populations, their descendants would gradually merge with the Carolingian-based cultures of West Francia. The distinct cultural and ethnic identity of the Normans emerged initially in the first half of the 10th century, and it continued to evolve over the succeeding centuries.',\n",
              " 'qas': [{'question': 'In what country is Normandy located?',\n",
              "   'id': '56ddde6b9a695914005b9628',\n",
              "   'is_impossible': False,\n",
              "   'answers': {'text': ['France', 'France', 'France', 'France'],\n",
              "    'answer_start': [159, 159, 159, 159]}}]}"
            ]
          },
          "metadata": {},
          "execution_count": 8
        }
      ]
    },
    {
      "cell_type": "code",
      "source": [
        "import random\n",
        "\n",
        "random.seed(5)\n",
        "\n",
        "# Select a random subset of 1000 training samples\n",
        "train_subset = random.sample(trainDataset, 1000)\n",
        "\n",
        "# Select a random subset of 300 validation samples\n",
        "val_subset = random.sample(valDataset, 300)"
      ],
      "metadata": {
        "id": "iy0WmxYPaSSE"
      },
      "execution_count": 9,
      "outputs": []
    },
    {
      "cell_type": "code",
      "source": [
        "random.seed(23)\n",
        "test_subset = random.sample(valDataset, 200)"
      ],
      "metadata": {
        "id": "TCAfG-PifOko"
      },
      "execution_count": 10,
      "outputs": []
    },
    {
      "cell_type": "code",
      "source": [
        "import json\n",
        "# Save the training subset to a JSON file\n",
        "with open('train_subset.json', 'w') as train_file:\n",
        "    json.dump(train_subset, train_file)\n",
        "\n",
        "# Save the validation subset to a JSON file\n",
        "with open('val_subset.json', 'w') as val_file:\n",
        "    json.dump(val_subset, val_file)\n",
        "\n",
        "# Save the test subset to a JSON file\n",
        "with open('test_subset.json', 'w') as test_file:\n",
        "    json.dump(test_subset, test_file)"
      ],
      "metadata": {
        "id": "ax7ExibYddOY"
      },
      "execution_count": 26,
      "outputs": []
    },
    {
      "cell_type": "code",
      "source": [
        "print(\"Train_dataset Length: \", len(train_subset))\n",
        "print(\"Validation_dataset Length: \", len(val_subset))\n",
        "print(\"test_dataset Length: \", len(test_subset))"
      ],
      "metadata": {
        "colab": {
          "base_uri": "https://localhost:8080/"
        },
        "id": "50HrNPYYatd8",
        "outputId": "a14b800b-1033-4468-eb98-c8e7b25ac687"
      },
      "execution_count": 11,
      "outputs": [
        {
          "output_type": "stream",
          "name": "stdout",
          "text": [
            "Train_dataset Length:  1000\n",
            "Validation_dataset Length:  300\n",
            "test_dataset Length:  200\n"
          ]
        }
      ]
    },
    {
      "cell_type": "markdown",
      "source": [
        "# **Import and Set perameters**"
      ],
      "metadata": {
        "id": "-fgPKpmNnkBw"
      }
    },
    {
      "cell_type": "code",
      "source": [
        "# !pip install simpletransformers\n",
        "\n",
        "import logging\n",
        "from simpletransformers.question_answering import QuestionAnsweringModel, QuestionAnsweringArgs\n",
        "\n",
        "model_type= 'bert'\n",
        "model_name= 'bert-base-uncased'"
      ],
      "metadata": {
        "id": "pfyDBInwbuuy"
      },
      "execution_count": 12,
      "outputs": []
    },
    {
      "cell_type": "markdown",
      "source": [
        "# **Configure the model**"
      ],
      "metadata": {
        "id": "R7JlMLPugDzk"
      }
    },
    {
      "cell_type": "code",
      "source": [
        "model_args = QuestionAnsweringArgs()\n",
        "\n",
        "model_args.train_batch_size = 16\n",
        "model_args.evaluate_during_training = True\n",
        "model_args.n_best_size= 3\n",
        "model_args.num_train_epochs=10"
      ],
      "metadata": {
        "id": "ynSvxto1cvSZ"
      },
      "execution_count": 84,
      "outputs": []
    },
    {
      "cell_type": "code",
      "source": [
        "### Advanced Methodology\n",
        "# ! pip install wandb\n",
        "\n",
        "train_args = {\n",
        "    \"reprocess_input_data\": True,\n",
        "    \"overwrite_output_dir\": True,\n",
        "    \"use_cached_eval_features\": True,\n",
        "    \"output_dir\": f\"outputs/{model_type}\",\n",
        "    \"best_model_dir\": f\"/content/{model_type}/best_model\",\n",
        "    \"evaluate_during_training\": True,\n",
        "    \"max_seq_length\": 128,\n",
        "    \"num_train_epochs\": 2,\n",
        "    \"evaluate_during_training_steps\": 1000,\n",
        "    \"wandb_project\": \"Question Answer Application\",\n",
        "    \"wandb_kwargs\": {\"name\": model_name},\n",
        "    \"save_model_every_epoch\": False,\n",
        "    \"save_eval_checkpoints\": False,\n",
        "    \"n_best_size\":2,\n",
        "    # \"use_early_stopping\": True,\n",
        "    # \"early_stopping_metric\": \"mcc\",\n",
        "    # \"n_gpu\": 2,\n",
        "    # \"manual_seed\": 4,\n",
        "    # \"use_multiprocessing\": False,\n",
        "    \"train_batch_size\": 128,\n",
        "    \"eval_batch_size\": 64,\n",
        "    # \"config\": {\n",
        "    #     \"output_hidden_states\": True\n",
        "    # }\n",
        "}"
      ],
      "metadata": {
        "id": "slGNlXG1g3Zy"
      },
      "execution_count": 15,
      "outputs": []
    },
    {
      "cell_type": "markdown",
      "source": [
        "# **Initialize Model**"
      ],
      "metadata": {
        "id": "TKL03urojnTU"
      }
    },
    {
      "cell_type": "code",
      "source": [
        "model = QuestionAnsweringModel(\n",
        "                  model_type,   # 'bert'\n",
        "                  model_name,   # 'bert-base-uncased'\n",
        "                  args= train_args  # model config Arguments\n",
        "                  )"
      ],
      "metadata": {
        "colab": {
          "base_uri": "https://localhost:8080/"
        },
        "id": "H1_wRlWTiJD0",
        "outputId": "2ff405dd-ccb3-4f31-b5e8-3b5ec90aeef4"
      },
      "execution_count": 14,
      "outputs": [
        {
          "output_type": "stream",
          "name": "stderr",
          "text": [
            "Some weights of BertForQuestionAnswering were not initialized from the model checkpoint at bert-base-uncased and are newly initialized: ['qa_outputs.bias', 'qa_outputs.weight']\n",
            "You should probably TRAIN this model on a down-stream task to be able to use it for predictions and inference.\n"
          ]
        }
      ]
    },
    {
      "cell_type": "code",
      "source": [
        "model.train_model(train_subset, eval_data=val_subset)"
      ],
      "metadata": {
        "colab": {
          "base_uri": "https://localhost:8080/",
          "height": 172,
          "referenced_widgets": [
            "fbcc5a77e05941b68a557917b9c7b27d",
            "330accb440644b109d7e9eb439474837",
            "590ee57741bd49d18db618142ae87e96",
            "ef0016586f1541cead5e28e441f9546f",
            "8af5cd6a50c34342a00a124d2942b343",
            "f2c3a78a18374fc5ba189b2b43df76e9",
            "9aeff1b0385e4367bc120b7df40c6bb2",
            "411d333d7089476ab504d411268fe34e",
            "8f2312808c514da8afca6f024264f707",
            "63cb4bbb644348748554873ad6753a08",
            "705f9a29c80f480f839e79d924f36354"
          ]
        },
        "id": "0d3n1u9kkSDS",
        "outputId": "95bc8c13-3d46-4fa0-8768-97170a17075a"
      },
      "execution_count": null,
      "outputs": [
        {
          "output_type": "stream",
          "name": "stderr",
          "text": [
            "convert squad examples to features: 100%|██████████| 683/683 [00:03<00:00, 189.71it/s]\n",
            "add example index and unique id: 100%|██████████| 683/683 [00:00<00:00, 543794.54it/s]\n"
          ]
        },
        {
          "output_type": "display_data",
          "data": {
            "text/plain": [
              "Epoch:   0%|          | 0/3 [00:00<?, ?it/s]"
            ],
            "application/vnd.jupyter.widget-view+json": {
              "version_major": 2,
              "version_minor": 0,
              "model_id": "fbcc5a77e05941b68a557917b9c7b27d"
            }
          },
          "metadata": {}
        },
        {
          "output_type": "display_data",
          "data": {
            "text/plain": [
              "<IPython.core.display.Javascript object>"
            ],
            "application/javascript": [
              "\n",
              "        window._wandbApiKey = new Promise((resolve, reject) => {\n",
              "            function loadScript(url) {\n",
              "            return new Promise(function(resolve, reject) {\n",
              "                let newScript = document.createElement(\"script\");\n",
              "                newScript.onerror = reject;\n",
              "                newScript.onload = resolve;\n",
              "                document.body.appendChild(newScript);\n",
              "                newScript.src = url;\n",
              "            });\n",
              "            }\n",
              "            loadScript(\"https://cdn.jsdelivr.net/npm/postmate/build/postmate.min.js\").then(() => {\n",
              "            const iframe = document.createElement('iframe')\n",
              "            iframe.style.cssText = \"width:0;height:0;border:none\"\n",
              "            document.body.appendChild(iframe)\n",
              "            const handshake = new Postmate({\n",
              "                container: iframe,\n",
              "                url: 'https://wandb.ai/authorize'\n",
              "            });\n",
              "            const timeout = setTimeout(() => reject(\"Couldn't auto authenticate\"), 5000)\n",
              "            handshake.then(function(child) {\n",
              "                child.on('authorize', data => {\n",
              "                    clearTimeout(timeout)\n",
              "                    resolve(data)\n",
              "                });\n",
              "            });\n",
              "            })\n",
              "        });\n",
              "    "
            ]
          },
          "metadata": {}
        },
        {
          "output_type": "stream",
          "name": "stderr",
          "text": [
            "\u001b[34m\u001b[1mwandb\u001b[0m: Logging into wandb.ai. (Learn how to deploy a W&B server locally: https://wandb.me/wandb-server)\n",
            "\u001b[34m\u001b[1mwandb\u001b[0m: You can find your API key in your browser here: https://wandb.ai/authorize\n",
            "wandb: Paste an API key from your profile and hit enter, or press ctrl+c to quit:"
          ]
        }
      ]
    },
    {
      "cell_type": "code",
      "source": [],
      "metadata": {
        "id": "a8gtKprnVQX-"
      },
      "execution_count": null,
      "outputs": []
    },
    {
      "cell_type": "code",
      "source": [
        "# Define a function to format your dataset\n",
        "def format_dataset(context, questions, answers):\n",
        "    dataset = []\n",
        "    for i, context_text in enumerate(context):\n",
        "        qa_pairs = []\n",
        "        for j, question_text in enumerate(questions[i]):\n",
        "            answer_text = answers[i][j]\n",
        "\n",
        "            # Create a dictionary for each question-answer pair\n",
        "            qa_pair = {\n",
        "                'id': f'{i}_{j}',  # Unique identifier for the pair\n",
        "                'question': question_text,\n",
        "                'is_impossible': False if answer_text else True,  # True for unanswerable questions\n",
        "                'answers': [{'text': answer_text}] if answer_text else [],\n",
        "            }\n",
        "\n",
        "            qa_pairs.append(qa_pair)\n",
        "\n",
        "        # Create a dictionary for the context and its associated question-answer pairs\n",
        "        context_data = {\n",
        "            'context': context_text,\n",
        "            'qas': qa_pairs,\n",
        "        }\n",
        "\n",
        "        dataset.append(context_data)\n",
        "\n",
        "    return dataset\n",
        "\n",
        "trainDataset=[]\n",
        "\n",
        "for example in train_dataset:\n",
        "    questions = example['question']\n",
        "    context = example['context']\n",
        "    answers = example['answers']\n",
        "    trainDataset.append({'question' : question, 'context': context, 'answers':answers})\n",
        "# Format the dataset\n",
        "TrainDataset = format_dataset(context, questions, answers)"
      ],
      "metadata": {
        "id": "hNrwnVwbVQrM"
      },
      "execution_count": null,
      "outputs": []
    }
  ]
}